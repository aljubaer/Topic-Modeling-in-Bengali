{
 "cells": [
  {
   "cell_type": "code",
   "execution_count": 1,
   "metadata": {},
   "outputs": [],
   "source": [
    "import numpy as np\n",
    "import pandas as pd\n",
    "import re, nltk, spacy, gensim"
   ]
  },
  {
   "cell_type": "code",
   "execution_count": 2,
   "metadata": {},
   "outputs": [],
   "source": [
    "# Sklearn\n",
    "from sklearn.decomposition import LatentDirichletAllocation, TruncatedSVD\n",
    "from sklearn.feature_extraction.text import CountVectorizer, TfidfVectorizer\n",
    "from sklearn.model_selection import GridSearchCV\n",
    "from pprint import pprint"
   ]
  },
  {
   "cell_type": "code",
   "execution_count": 4,
   "metadata": {},
   "outputs": [],
   "source": [
    "# Plotting tools\n",
    "import pyLDAvis\n",
    "import pyLDAvis.sklearn\n",
    "import matplotlib.pyplot as plt\n",
    "%matplotlib inline"
   ]
  },
  {
   "cell_type": "code",
   "execution_count": 6,
   "metadata": {},
   "outputs": [
    {
     "name": "stdout",
     "output_type": "stream",
     "text": [
      "                                              content\n",
      "0   \\nরোহিঙ্গাদের মুঠোফোন সেবা বন্ধের নির্দেশ: যথা...\n",
      "1   \\nরাবিতে ভর্তি পরীক্ষার আবেদন শুরু কাল থেকে\\n ...\n",
      "10  \\nমাকে পুড়িয়ে মারার অভিযোগে মাদকাসক্ত ছেলের বি...\n",
      "11  \\nসন্ধ্যার মধ্যেই জামিনে মুক্তি পাচ্ছেন আয়শা\\...\n",
      "12  \\nআরামে সহজে ফ্যাশনে\\n -> \\n\\n\\nফ্যাশন আর আরাম...\n"
     ]
    }
   ],
   "source": [
    "# Import Dataset\n",
    "df = pd.read_json('../data/newspaper/prothom_alo_2019-09-03.txt')\n",
    "print(df.head())"
   ]
  },
  {
   "cell_type": "code",
   "execution_count": 7,
   "metadata": {},
   "outputs": [
    {
     "name": "stdout",
     "output_type": "stream",
     "text": [
      "[' রোহিঙ্গাদের মুঠোফোন সেবা বন্ধের নির্দেশ: যথাযথ পদক্ষেপ নেবে অ্যামটব -> '\n",
      " 'মুঠোফোন অপারেটরদের সংগঠন অ্যাসোসিয়েশন অব মোবাইল টেলিকম অপারেটরস অব বাংলাদেশ '\n",
      " '(অ্যামটব) বলেছে, জাতীয় পরিচয় তথ্যভান্ডারে (এনআইডি) সংরক্ষিত তথ্যের সঙ্গে '\n",
      " 'আঙুলের ছাপ যাচাই করার পরই কেবল মোবাইলের সিম সক্রিয় হয়। আজ রোববার বাংলাদেশ '\n",
      " 'টেলিযোগাযোগ নিয়ন্ত্রণ কমিশন (বিটিআরসি) মোবাইল অপারেটরদের চিঠি দিয়ে '\n",
      " 'রোহিঙ্গাদের মুঠোফোন সেবা বন্ধের নির্দেশ দেওয়ার পর এক প্রতিক্রিয়ায় এ কথা '\n",
      " 'জানায় অ্যামটব। অ্যামটবের মহাসচিব এস এম ফরহাদ বলেন, ‘মোবাইল অপারেটরেরা সব '\n",
      " 'সময়ই বিটিআরসির নির্দেশনা মেনে চলে। এ ব্যাপারে তারা নিজেদের আয়ত্তের মধ্যে '\n",
      " 'সম্ভব যথাযথ পদক্ষেপ নেবে।’ তিনি আরও বলেন, ‘আরেকটি বিষয় বলা দরকার, এনআইডি '\n",
      " 'তথ্যভান্ডারের সঙ্গে আঙুলের ছাপ মিলিয়ে নিশ্চিত হওয়ার পরেই কেবল মোবাইল সিম '\n",
      " 'সক্রিয় করা হয়।’ বিটিআরসির চিঠিতে বলা হয়েছে, রোহিঙ্গা ক্যাম্পে কোনো প্রকার '\n",
      " 'সিম বিক্রি করা যাবে না। পাশাপাশি রোহিঙ্গাদের মুঠোফোন সুবিধা দেওয়ার বিষয়েও '\n",
      " 'নিষেধ করেছে বিটিআরসি। এ বিষয়ে আগামী সাত কার্যদিবসের মধ্যে ব্যবস্থা নিয়ে '\n",
      " 'বিটিআরসিকে জানাতে বলা হয়েছে। এক বিজ্ঞপ্তিতে জানানো হয়, ডাক ও টেলিযোগাযোগ '\n",
      " 'মন্ত্রী মোস্তাফা জব্বারের নির্দেশনার পর বিটিআরসি এই চিঠি দিয়েছে। চিঠিতে বলা '\n",
      " 'হয়েছে, রাষ্ট্রীয় নিরাপত্তা ও গুরুত্ব বিবেচনা, আইনশৃঙ্খলা রক্ষা ও জন সুরক্ষার '\n",
      " 'স্বার্থে রোহিঙ্গারা যাতে মুঠোফোন সুবিধা না পায়, সেটি নিশ্চিত করতে আগেও বলা '\n",
      " 'হয়েছিল। কিন্তু কমিশন রোহিঙ্গা ক্যাম্প পরিদর্শনকারী কমিটি, গণমাধ্যমে প্রকাশিত '\n",
      " 'খবর, আইন প্রয়োগকারী সংস্থা ও গোয়েন্দা সংস্থার মাধ্যমে ক্যাম্পে রোহিঙ্গাদের '\n",
      " 'মধ্যে ব্যাপক হারে সিম ব্যবহারের তথ্য পেয়েছে। আরও পড়ুন: রোহিঙ্গাদের মোবাইল '\n",
      " 'সুবিধা বন্ধের নির্দেশ ']\n"
     ]
    },
    {
     "name": "stderr",
     "output_type": "stream",
     "text": [
      "<>:5: DeprecationWarning: invalid escape sequence \\S\n",
      "<>:8: DeprecationWarning: invalid escape sequence \\s\n",
      "<>:5: DeprecationWarning: invalid escape sequence \\S\n",
      "<>:8: DeprecationWarning: invalid escape sequence \\s\n",
      "<>:5: DeprecationWarning: invalid escape sequence \\S\n",
      "<>:8: DeprecationWarning: invalid escape sequence \\s\n",
      "<ipython-input-7-10af9153bd18>:5: DeprecationWarning: invalid escape sequence \\S\n",
      "  data = [re.sub('\\S*@\\S*\\s?', '', sent) for sent in data]\n",
      "<ipython-input-7-10af9153bd18>:8: DeprecationWarning: invalid escape sequence \\s\n",
      "  data = [re.sub('\\s+', ' ', sent) for sent in data]\n"
     ]
    }
   ],
   "source": [
    "# Convert to list\n",
    "data = df.content.values.tolist()\n",
    "\n",
    "# Remove Emails\n",
    "data = [re.sub('\\S*@\\S*\\s?', '', sent) for sent in data]\n",
    "\n",
    "# Remove new line characters\n",
    "data = [re.sub('\\s+', ' ', sent) for sent in data]\n",
    "\n",
    "# Remove distracting single quotes\n",
    "data = [re.sub(\"\\'\", \"\", sent) for sent in data]\n",
    "\n",
    "pprint(data[:1])"
   ]
  },
  {
   "cell_type": "code",
   "execution_count": 10,
   "metadata": {},
   "outputs": [],
   "source": [
    "def valid_bengali_letters(char):\n",
    "    return ord(char) >= 2433 and ord(char) <= 2543 \n",
    "\n",
    "def get_replacement(char):\n",
    "    if valid_bengali_letters(char):\n",
    "        return char\n",
    "    newlines = [10, 2404, 2405, 2551, 9576]\n",
    "    if ord(char) in newlines: \n",
    "        return ' '\n",
    "    return ' ';\n",
    "\n",
    "def get_valid_lines(line):\n",
    "    copy_line = ''\n",
    "    for letter in line:\n",
    "        copy_line += get_replacement(letter)\n",
    "    return copy_line"
   ]
  },
  {
   "cell_type": "code",
   "execution_count": 11,
   "metadata": {},
   "outputs": [
    {
     "name": "stdout",
     "output_type": "stream",
     "text": [
      "[['রোহিঙ্গাদের', 'মুঠোফোন', 'সেবা', 'বন্ধের', 'নির্দেশ', 'যথাযথ', 'পদক্ষেপ', 'নেবে', 'অ্যামটব', 'মুঠোফোন', 'অপারেটরদের', 'সংগঠন', 'অ্যাসোসিয়েশন', 'অব', 'মোবাইল', 'টেলিকম', 'অপারেটরস', 'অব', 'বাংলাদেশ', 'অ্যামটব', 'বলেছে', 'জাতীয়', 'পরিচয়', 'তথ্যভান্ডারে', 'এনআইডি', 'সংরক্ষিত', 'তথ্যের', 'সঙ্গে', 'আঙুলের', 'ছাপ', 'যাচাই', 'করার', 'পরই', 'কেবল', 'মোবাইলের', 'সিম', 'সক্রিয়', 'হয়', 'আজ', 'রোববার', 'বাংলাদেশ', 'টেলিযোগাযোগ', 'নিয়ন্ত্রণ', 'কমিশন', 'বিটিআরসি', 'মোবাইল', 'অপারেটরদের', 'চিঠি', 'দিয়ে', 'রোহিঙ্গাদের', 'মুঠোফোন', 'সেবা', 'বন্ধের', 'নির্দেশ', 'দেওয়ার', 'পর', 'এক', 'প্রতিক্রিয়ায়', 'এ', 'কথা', 'জানায়', 'অ্যামটব', 'অ্যামটবের', 'মহাসচিব', 'এস', 'এম', 'ফরহাদ', 'বলেন', 'মোবাইল', 'অপারেটরেরা', 'সব', 'সময়ই', 'বিটিআরসির', 'নির্দেশনা', 'মেনে', 'চলে', 'এ', 'ব্যাপারে', 'তারা', 'নিজেদের', 'আয়ত্তের', 'মধ্যে', 'সম্ভব', 'যথাযথ', 'পদক্ষেপ', 'নেবে', 'তিনি', 'আরও', 'বলেন', 'আরেকটি', 'বিষয়', 'বলা', 'দরকার', 'এনআইডি', 'তথ্যভান্ডারের', 'সঙ্গে', 'আঙুলের', 'ছাপ', 'মিলিয়ে', 'নিশ্চিত', 'হওয়ার', 'পরেই', 'কেবল', 'মোবাইল', 'সিম', 'সক্রিয়', 'করা', 'হয়', 'বিটিআরসির', 'চিঠিতে', 'বলা', 'হয়েছে', 'রোহিঙ্গা', 'ক্যাম্পে', 'কোনো', 'প্রকার', 'সিম', 'বিক্রি', 'করা', 'যাবে', 'না', 'পাশাপাশি', 'রোহিঙ্গাদের', 'মুঠোফোন', 'সুবিধা', 'দেওয়ার', 'বিষয়েও', 'নিষেধ', 'করেছে', 'বিটিআরসি', 'এ', 'বিষয়ে', 'আগামী', 'সাত', 'কার্যদিবসের', 'মধ্যে', 'ব্যবস্থা', 'নিয়ে', 'বিটিআরসিকে', 'জানাতে', 'বলা', 'হয়েছে', 'এক', 'বিজ্ঞপ্তিতে', 'জানানো', 'হয়', 'ডাক', 'ও', 'টেলিযোগাযোগ', 'মন্ত্রী', 'মোস্তাফা', 'জব্বারের', 'নির্দেশনার', 'পর', 'বিটিআরসি', 'এই', 'চিঠি', 'দিয়েছে', 'চিঠিতে', 'বলা', 'হয়েছে', 'রাষ্ট্রীয়', 'নিরাপত্তা', 'ও', 'গুরুত্ব', 'বিবেচনা', 'আইনশৃঙ্খলা', 'রক্ষা', 'ও', 'জন', 'সুরক্ষার', 'স্বার্থে', 'রোহিঙ্গারা', 'যাতে', 'মুঠোফোন', 'সুবিধা', 'না', 'পায়', 'সেটি', 'নিশ্চিত', 'করতে', 'আগেও', 'বলা', 'হয়েছিল', 'কিন্তু', 'কমিশন', 'রোহিঙ্গা', 'ক্যাম্প', 'পরিদর্শনকারী', 'কমিটি', 'গণমাধ্যমে', 'প্রকাশিত', 'খবর', 'আইন', 'প্রয়োগকারী', 'সংস্থা', 'ও', 'গোয়েন্দা', 'সংস্থার', 'মাধ্যমে', 'ক্যাম্পে', 'রোহিঙ্গাদের', 'মধ্যে', 'ব্যাপক', 'হারে', 'সিম', 'ব্যবহারের', 'তথ্য', 'পেয়েছে', 'আরও', 'পড়ুন', 'রোহিঙ্গাদের', 'মোবাইল', 'সুবিধা', 'বন্ধের', 'নির্দেশ']]\n"
     ]
    }
   ],
   "source": [
    "def sent_to_words(sentences):\n",
    "    for sentence in sentences:\n",
    "        yield(nltk.word_tokenize(get_valid_lines(sentence)))  # deacc=True removes punctuations\n",
    "\n",
    "data_words = list(sent_to_words(data))\n",
    "\n",
    "print(data_words[:1])"
   ]
  },
  {
   "cell_type": "code",
   "execution_count": 20,
   "metadata": {},
   "outputs": [
    {
     "ename": "AttributeError",
     "evalue": "'str' object has no attribute 'len'",
     "output_type": "error",
     "traceback": [
      "\u001b[0;31m---------------------------------------------------------------------------\u001b[0m",
      "\u001b[0;31mAttributeError\u001b[0m                            Traceback (most recent call last)",
      "\u001b[0;32m<ipython-input-20-2c5dca22cc80>\u001b[0m in \u001b[0;36m<module>\u001b[0;34m\u001b[0m\n\u001b[1;32m      6\u001b[0m \u001b[0;32mfor\u001b[0m \u001b[0msingle_data\u001b[0m \u001b[0;32min\u001b[0m \u001b[0mdata_words\u001b[0m\u001b[0;34m:\u001b[0m\u001b[0;34m\u001b[0m\u001b[0;34m\u001b[0m\u001b[0m\n\u001b[1;32m      7\u001b[0m     \u001b[0;32mfor\u001b[0m \u001b[0mword\u001b[0m \u001b[0;32min\u001b[0m \u001b[0msingle_data\u001b[0m\u001b[0;34m:\u001b[0m\u001b[0;34m\u001b[0m\u001b[0;34m\u001b[0m\u001b[0m\n\u001b[0;32m----> 8\u001b[0;31m         \u001b[0;32mif\u001b[0m \u001b[0mword\u001b[0m\u001b[0;34m.\u001b[0m\u001b[0mlen\u001b[0m\u001b[0;34m(\u001b[0m\u001b[0;34m)\u001b[0m \u001b[0;34m<\u001b[0m \u001b[0;36m3\u001b[0m\u001b[0;34m:\u001b[0m\u001b[0;34m\u001b[0m\u001b[0;34m\u001b[0m\u001b[0m\n\u001b[0m\u001b[1;32m      9\u001b[0m             \u001b[0;32mcontinue\u001b[0m\u001b[0;34m\u001b[0m\u001b[0;34m\u001b[0m\u001b[0m\n\u001b[1;32m     10\u001b[0m         \u001b[0mword\u001b[0m \u001b[0;34m=\u001b[0m \u001b[0mstemmer\u001b[0m\u001b[0;34m.\u001b[0m\u001b[0mstem\u001b[0m\u001b[0;34m(\u001b[0m\u001b[0mword\u001b[0m\u001b[0;34m)\u001b[0m\u001b[0;34m\u001b[0m\u001b[0;34m\u001b[0m\u001b[0m\n",
      "\u001b[0;31mAttributeError\u001b[0m: 'str' object has no attribute 'len'"
     ]
    }
   ],
   "source": [
    "from py_bangla_stemmer import BanglaStemmer\n",
    "\n",
    "stemmer = BanglaStemmer() \n",
    "stemmer.stem('জনপ্রিয়তা')\n",
    "\n",
    "for single_data in data_words:\n",
    "    for word in single_data:\n",
    "        if len(word) < 3:\n",
    "            continue\n",
    "        word = stemmer.stem(word)\n",
    "print(data_words[:1])"
   ]
  },
  {
   "cell_type": "code",
   "execution_count": null,
   "metadata": {},
   "outputs": [],
   "source": []
  }
 ],
 "metadata": {
  "kernelspec": {
   "display_name": "Python 3",
   "language": "python",
   "name": "python3"
  },
  "language_info": {
   "codemirror_mode": {
    "name": "ipython",
    "version": 3
   },
   "file_extension": ".py",
   "mimetype": "text/x-python",
   "name": "python",
   "nbconvert_exporter": "python",
   "pygments_lexer": "ipython3",
   "version": "3.7.4"
  }
 },
 "nbformat": 4,
 "nbformat_minor": 2
}
